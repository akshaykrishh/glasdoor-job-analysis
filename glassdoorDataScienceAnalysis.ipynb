{
  "nbformat": 4,
  "nbformat_minor": 0,
  "metadata": {
    "colab": {
      "name": "glassdoorDataScienceAnalysis.ipynb",
      "provenance": [],
      "include_colab_link": true
    },
    "language_info": {
      "name": "python"
    },
    "kernelspec": {
      "name": "python3",
      "display_name": "Python 3"
    }
  },
  "cells": [
    {
      "cell_type": "markdown",
      "metadata": {
        "id": "view-in-github",
        "colab_type": "text"
      },
      "source": [
        "<a href=\"https://colab.research.google.com/github/akshaykrishh/glasdoor-job-analysis/blob/main/glassdoorDataScienceAnalysis.ipynb\" target=\"_parent\"><img src=\"https://colab.research.google.com/assets/colab-badge.svg\" alt=\"Open In Colab\"/></a>"
      ]
    },
    {
      "cell_type": "markdown",
      "metadata": {
        "id": "gUf8dvqcvQZw"
      },
      "source": [
        "# Glassdoor Data Science Jobs Data Analysis\n",
        "\n",
        "Glassdoor is a website where current and former employees anonymously review companies. Glassdoor also allows users to anonymously submit and view salaries as well as search and apply for jobs on its platform.\n",
        "\n",
        "Since more and more people use Glassdoor to search and apply for jobs in Data Science, Glassdoor becames quite popular and essential platform. I chose the data which collected by scrapping the glassdoor website for data science jobs in the United States from https://www.kaggle.com/rkb0023/glassdoor-data-science-jobs to analyze jobs in Data Science.\n",
        "\n",
        "The data has information about Job Title, Salary Estimate, Company Location, company Size, Industry etc which are relevant for this project."
      ]
    },
    {
      "cell_type": "code",
      "metadata": {
        "id": "aM5x7HOGvQZx"
      },
      "source": [
        "project_name = \"glassdoor_data_science_jobs\""
      ],
      "execution_count": null,
      "outputs": []
    },
    {
      "cell_type": "code",
      "metadata": {
        "id": "9x_Dq697vQZy"
      },
      "source": [
        "import re\n",
        "from collections import Counter\n",
        "import locale\n",
        "import numpy as np\n",
        "import pandas as pd\n",
        "import matplotlib.pyplot as plt\n",
        "import seaborn as sns"
      ],
      "execution_count": null,
      "outputs": []
    },
    {
      "cell_type": "markdown",
      "metadata": {
        "id": "_C3Os6JivQZ0"
      },
      "source": [
        "# Reading Data\n",
        "\n",
        "The first step is to load the data into a Pandas dataframe. The data I have downloaded from https://www.kaggle.com/rkb0023/glassdoor-data-science-jobs is a csv file, I have saved it and uploaded for this project."
      ]
    },
    {
      "cell_type": "code",
      "metadata": {
        "id": "4VkxygfXvQZ1"
      },
      "source": [
        "glassdoor_data_jobs_raw = pd.read_csv('glassdoor_jobs.csv')"
      ],
      "execution_count": null,
      "outputs": []
    },
    {
      "cell_type": "markdown",
      "metadata": {
        "id": "Z3lZ1MShvQZ2"
      },
      "source": [
        "First let's view basic information about the dataset, and also few lines of data using the .info, .head method."
      ]
    },
    {
      "cell_type": "code",
      "metadata": {
        "id": "9vT9jN3xvQZ2",
        "outputId": "593c4742-3521-44ad-b924-2c402333620c"
      },
      "source": [
        "glassdoor_data_jobs_raw.info()"
      ],
      "execution_count": null,
      "outputs": [
        {
          "output_type": "stream",
          "text": [
            "<class 'pandas.core.frame.DataFrame'>\n",
            "RangeIndex: 1000 entries, 0 to 999\n",
            "Data columns (total 14 columns):\n",
            " #   Column             Non-Null Count  Dtype  \n",
            "---  ------             --------------  -----  \n",
            " 0   Job Title          1000 non-null   object \n",
            " 1   Salary Estimate    1000 non-null   object \n",
            " 2   Job Description    1000 non-null   object \n",
            " 3   Rating             1000 non-null   float64\n",
            " 4   Company Name       1000 non-null   object \n",
            " 5   Location           1000 non-null   object \n",
            " 6   Headquarters       1000 non-null   object \n",
            " 7   Size               1000 non-null   object \n",
            " 8   Founded            1000 non-null   int64  \n",
            " 9   Type of ownership  1000 non-null   object \n",
            " 10  Industry           1000 non-null   object \n",
            " 11  Sector             1000 non-null   object \n",
            " 12  Revenue            1000 non-null   object \n",
            " 13  Competitors        1000 non-null   object \n",
            "dtypes: float64(1), int64(1), object(12)\n",
            "memory usage: 109.5+ KB\n"
          ],
          "name": "stdout"
        }
      ]
    },
    {
      "cell_type": "code",
      "metadata": {
        "id": "NX5mMaWVvQZ3",
        "outputId": "93d1b08c-0e7a-4da2-c241-74b0bee9a8d9"
      },
      "source": [
        "glassdoor_data_jobs_raw.head(10)"
      ],
      "execution_count": null,
      "outputs": [
        {
          "output_type": "execute_result",
          "data": {
            "text/html": [
              "<div>\n",
              "<style scoped>\n",
              "    .dataframe tbody tr th:only-of-type {\n",
              "        vertical-align: middle;\n",
              "    }\n",
              "\n",
              "    .dataframe tbody tr th {\n",
              "        vertical-align: top;\n",
              "    }\n",
              "\n",
              "    .dataframe thead th {\n",
              "        text-align: right;\n",
              "    }\n",
              "</style>\n",
              "<table border=\"1\" class=\"dataframe\">\n",
              "  <thead>\n",
              "    <tr style=\"text-align: right;\">\n",
              "      <th></th>\n",
              "      <th>Job Title</th>\n",
              "      <th>Salary Estimate</th>\n",
              "      <th>Job Description</th>\n",
              "      <th>Rating</th>\n",
              "      <th>Company Name</th>\n",
              "      <th>Location</th>\n",
              "      <th>Headquarters</th>\n",
              "      <th>Size</th>\n",
              "      <th>Founded</th>\n",
              "      <th>Type of ownership</th>\n",
              "      <th>Industry</th>\n",
              "      <th>Sector</th>\n",
              "      <th>Revenue</th>\n",
              "      <th>Competitors</th>\n",
              "    </tr>\n",
              "  </thead>\n",
              "  <tbody>\n",
              "    <tr>\n",
              "      <th>0</th>\n",
              "      <td>Data Scientist</td>\n",
              "      <td>$77K-$92K (Glassdoor Est.)</td>\n",
              "      <td>Data Scientist\\nAffinity Solutions / Marketing...</td>\n",
              "      <td>2.9</td>\n",
              "      <td>Affinity Solutions\\n2.9</td>\n",
              "      <td>New York, NY</td>\n",
              "      <td>New York, NY</td>\n",
              "      <td>51 to 200 employees</td>\n",
              "      <td>1998</td>\n",
              "      <td>Company - Private</td>\n",
              "      <td>Advertising &amp; Marketing</td>\n",
              "      <td>Business Services</td>\n",
              "      <td>Unknown / Non-Applicable</td>\n",
              "      <td>Commerce Signals, Cardlytics, Yodlee</td>\n",
              "    </tr>\n",
              "    <tr>\n",
              "      <th>1</th>\n",
              "      <td>Data Scientist</td>\n",
              "      <td>$77K-$92K (Glassdoor Est.)</td>\n",
              "      <td>Secure our Nation, Ignite your Future\\n\\nSumma...</td>\n",
              "      <td>4.1</td>\n",
              "      <td>ManTech\\n4.1</td>\n",
              "      <td>Chantilly, VA</td>\n",
              "      <td>Herndon, VA</td>\n",
              "      <td>5001 to 10000 employees</td>\n",
              "      <td>1968</td>\n",
              "      <td>Company - Public</td>\n",
              "      <td>Research &amp; Development</td>\n",
              "      <td>Business Services</td>\n",
              "      <td>₹100 to ₹500 billion (INR)</td>\n",
              "      <td>-1</td>\n",
              "    </tr>\n",
              "    <tr>\n",
              "      <th>2</th>\n",
              "      <td>Data Scientist</td>\n",
              "      <td>$77K-$92K (Glassdoor Est.)</td>\n",
              "      <td>By clicking the Apply button, I understand tha...</td>\n",
              "      <td>3.7</td>\n",
              "      <td>Takeda\\n3.7</td>\n",
              "      <td>Cambridge, MA</td>\n",
              "      <td>OSAKA, Japan</td>\n",
              "      <td>10000+ employees</td>\n",
              "      <td>1781</td>\n",
              "      <td>Company - Public</td>\n",
              "      <td>Biotech &amp; Pharmaceuticals</td>\n",
              "      <td>Biotech &amp; Pharmaceuticals</td>\n",
              "      <td>₹500+ billion (INR)</td>\n",
              "      <td>Novartis, Baxter, Pfizer</td>\n",
              "    </tr>\n",
              "    <tr>\n",
              "      <th>3</th>\n",
              "      <td>Data Scientist</td>\n",
              "      <td>$77K-$92K (Glassdoor Est.)</td>\n",
              "      <td>Join Our Growing Team\\nA career with A Place f...</td>\n",
              "      <td>3.0</td>\n",
              "      <td>A Place for Mom\\n3.0</td>\n",
              "      <td>Overland Park, KS</td>\n",
              "      <td>New York, NY</td>\n",
              "      <td>501 to 1000 employees</td>\n",
              "      <td>2000</td>\n",
              "      <td>Company - Private</td>\n",
              "      <td>Healthcare Services &amp; Hospitals</td>\n",
              "      <td>Healthcare</td>\n",
              "      <td>Unknown / Non-Applicable</td>\n",
              "      <td>Enlivant, Sunrise Senior Living, Brookdale Sen...</td>\n",
              "    </tr>\n",
              "    <tr>\n",
              "      <th>4</th>\n",
              "      <td>Data Scientist</td>\n",
              "      <td>$77K-$92K (Glassdoor Est.)</td>\n",
              "      <td>We are looking for Data Scientists who are int...</td>\n",
              "      <td>3.7</td>\n",
              "      <td>GovTech\\n3.7</td>\n",
              "      <td>San Francisco, CA</td>\n",
              "      <td>Singapore, Singapore</td>\n",
              "      <td>1001 to 5000 employees</td>\n",
              "      <td>2016</td>\n",
              "      <td>Government</td>\n",
              "      <td>Government Agencies</td>\n",
              "      <td>Government</td>\n",
              "      <td>Unknown / Non-Applicable</td>\n",
              "      <td>-1</td>\n",
              "    </tr>\n",
              "    <tr>\n",
              "      <th>5</th>\n",
              "      <td>Data Scientist</td>\n",
              "      <td>$77K-$92K (Glassdoor Est.)</td>\n",
              "      <td>Job Title: Data Scientists\\n\\nJob Description\\...</td>\n",
              "      <td>2.2</td>\n",
              "      <td>Great-Circle Technologies\\n2.2</td>\n",
              "      <td>Chantilly, VA</td>\n",
              "      <td>Chantilly, VA</td>\n",
              "      <td>1 to 50 employees</td>\n",
              "      <td>2000</td>\n",
              "      <td>Company - Private</td>\n",
              "      <td>Enterprise Software &amp; Network Solutions</td>\n",
              "      <td>Information Technology</td>\n",
              "      <td>₹100 to ₹500 million (INR)</td>\n",
              "      <td>-1</td>\n",
              "    </tr>\n",
              "    <tr>\n",
              "      <th>6</th>\n",
              "      <td>Senior Data Engineer</td>\n",
              "      <td>$77K-$92K (Glassdoor Est.)</td>\n",
              "      <td>Senior Data Engineer\\nLocation/City: Atlanta, ...</td>\n",
              "      <td>3.6</td>\n",
              "      <td>Steady\\n3.6</td>\n",
              "      <td>Atlanta, GA</td>\n",
              "      <td>Atlanta, GA</td>\n",
              "      <td>1 to 50 employees</td>\n",
              "      <td>2017</td>\n",
              "      <td>Company - Private</td>\n",
              "      <td>Internet</td>\n",
              "      <td>Information Technology</td>\n",
              "      <td>Unknown / Non-Applicable</td>\n",
              "      <td>-1</td>\n",
              "    </tr>\n",
              "    <tr>\n",
              "      <th>7</th>\n",
              "      <td>Data Scientist</td>\n",
              "      <td>$77K-$92K (Glassdoor Est.)</td>\n",
              "      <td>Are you performance-driven and want your impac...</td>\n",
              "      <td>4.0</td>\n",
              "      <td>goTRG\\n4.0</td>\n",
              "      <td>Miami, FL</td>\n",
              "      <td>Miami, FL</td>\n",
              "      <td>501 to 1000 employees</td>\n",
              "      <td>2008</td>\n",
              "      <td>Company - Private</td>\n",
              "      <td>Enterprise Software &amp; Network Solutions</td>\n",
              "      <td>Information Technology</td>\n",
              "      <td>₹10 to ₹50 billion (INR)</td>\n",
              "      <td>-1</td>\n",
              "    </tr>\n",
              "    <tr>\n",
              "      <th>8</th>\n",
              "      <td>Associate Director, Data Science</td>\n",
              "      <td>$77K-$92K (Glassdoor Est.)</td>\n",
              "      <td>About Veracyte\\n\\n\\nVeracyte (Nasdaq: VCYT) is...</td>\n",
              "      <td>3.5</td>\n",
              "      <td>Veracyte\\n3.5</td>\n",
              "      <td>South San Francisco, CA</td>\n",
              "      <td>South San Francisco, CA</td>\n",
              "      <td>201 to 500 employees</td>\n",
              "      <td>2008</td>\n",
              "      <td>Company - Public</td>\n",
              "      <td>Biotech &amp; Pharmaceuticals</td>\n",
              "      <td>Biotech &amp; Pharmaceuticals</td>\n",
              "      <td>₹10 to ₹50 billion (INR)</td>\n",
              "      <td>-1</td>\n",
              "    </tr>\n",
              "    <tr>\n",
              "      <th>9</th>\n",
              "      <td>Senior Data Scientist</td>\n",
              "      <td>$77K-$92K (Glassdoor Est.)</td>\n",
              "      <td>Brinks Home Security™ is a proven leader in th...</td>\n",
              "      <td>3.4</td>\n",
              "      <td>Brinks Home Security\\n3.4</td>\n",
              "      <td>Dallas, TX</td>\n",
              "      <td>Farmers Branch, TX</td>\n",
              "      <td>1001 to 5000 employees</td>\n",
              "      <td>-1</td>\n",
              "      <td>Company - Public</td>\n",
              "      <td>Security Services</td>\n",
              "      <td>Business Services</td>\n",
              "      <td>Unknown / Non-Applicable</td>\n",
              "      <td>ADT Security Services, Protection 1</td>\n",
              "    </tr>\n",
              "  </tbody>\n",
              "</table>\n",
              "</div>"
            ],
            "text/plain": [
              "                          Job Title             Salary Estimate  \\\n",
              "0                    Data Scientist  $77K-$92K (Glassdoor Est.)   \n",
              "1                    Data Scientist  $77K-$92K (Glassdoor Est.)   \n",
              "2                    Data Scientist  $77K-$92K (Glassdoor Est.)   \n",
              "3                    Data Scientist  $77K-$92K (Glassdoor Est.)   \n",
              "4                    Data Scientist  $77K-$92K (Glassdoor Est.)   \n",
              "5                    Data Scientist  $77K-$92K (Glassdoor Est.)   \n",
              "6              Senior Data Engineer  $77K-$92K (Glassdoor Est.)   \n",
              "7                    Data Scientist  $77K-$92K (Glassdoor Est.)   \n",
              "8  Associate Director, Data Science  $77K-$92K (Glassdoor Est.)   \n",
              "9             Senior Data Scientist  $77K-$92K (Glassdoor Est.)   \n",
              "\n",
              "                                     Job Description  Rating  \\\n",
              "0  Data Scientist\\nAffinity Solutions / Marketing...     2.9   \n",
              "1  Secure our Nation, Ignite your Future\\n\\nSumma...     4.1   \n",
              "2  By clicking the Apply button, I understand tha...     3.7   \n",
              "3  Join Our Growing Team\\nA career with A Place f...     3.0   \n",
              "4  We are looking for Data Scientists who are int...     3.7   \n",
              "5  Job Title: Data Scientists\\n\\nJob Description\\...     2.2   \n",
              "6  Senior Data Engineer\\nLocation/City: Atlanta, ...     3.6   \n",
              "7  Are you performance-driven and want your impac...     4.0   \n",
              "8  About Veracyte\\n\\n\\nVeracyte (Nasdaq: VCYT) is...     3.5   \n",
              "9  Brinks Home Security™ is a proven leader in th...     3.4   \n",
              "\n",
              "                     Company Name                 Location  \\\n",
              "0         Affinity Solutions\\n2.9             New York, NY   \n",
              "1                    ManTech\\n4.1            Chantilly, VA   \n",
              "2                     Takeda\\n3.7            Cambridge, MA   \n",
              "3            A Place for Mom\\n3.0        Overland Park, KS   \n",
              "4                    GovTech\\n3.7        San Francisco, CA   \n",
              "5  Great-Circle Technologies\\n2.2            Chantilly, VA   \n",
              "6                     Steady\\n3.6              Atlanta, GA   \n",
              "7                      goTRG\\n4.0                Miami, FL   \n",
              "8                   Veracyte\\n3.5  South San Francisco, CA   \n",
              "9       Brinks Home Security\\n3.4               Dallas, TX   \n",
              "\n",
              "              Headquarters                     Size  Founded  \\\n",
              "0             New York, NY      51 to 200 employees     1998   \n",
              "1              Herndon, VA  5001 to 10000 employees     1968   \n",
              "2             OSAKA, Japan         10000+ employees     1781   \n",
              "3             New York, NY    501 to 1000 employees     2000   \n",
              "4     Singapore, Singapore   1001 to 5000 employees     2016   \n",
              "5            Chantilly, VA        1 to 50 employees     2000   \n",
              "6              Atlanta, GA        1 to 50 employees     2017   \n",
              "7                Miami, FL    501 to 1000 employees     2008   \n",
              "8  South San Francisco, CA     201 to 500 employees     2008   \n",
              "9       Farmers Branch, TX   1001 to 5000 employees       -1   \n",
              "\n",
              "   Type of ownership                                 Industry  \\\n",
              "0  Company - Private                  Advertising & Marketing   \n",
              "1   Company - Public                   Research & Development   \n",
              "2   Company - Public                Biotech & Pharmaceuticals   \n",
              "3  Company - Private          Healthcare Services & Hospitals   \n",
              "4         Government                      Government Agencies   \n",
              "5  Company - Private  Enterprise Software & Network Solutions   \n",
              "6  Company - Private                                 Internet   \n",
              "7  Company - Private  Enterprise Software & Network Solutions   \n",
              "8   Company - Public                Biotech & Pharmaceuticals   \n",
              "9   Company - Public                        Security Services   \n",
              "\n",
              "                      Sector                     Revenue  \\\n",
              "0          Business Services    Unknown / Non-Applicable   \n",
              "1          Business Services  ₹100 to ₹500 billion (INR)   \n",
              "2  Biotech & Pharmaceuticals         ₹500+ billion (INR)   \n",
              "3                 Healthcare    Unknown / Non-Applicable   \n",
              "4                 Government    Unknown / Non-Applicable   \n",
              "5     Information Technology  ₹100 to ₹500 million (INR)   \n",
              "6     Information Technology    Unknown / Non-Applicable   \n",
              "7     Information Technology    ₹10 to ₹50 billion (INR)   \n",
              "8  Biotech & Pharmaceuticals    ₹10 to ₹50 billion (INR)   \n",
              "9          Business Services    Unknown / Non-Applicable   \n",
              "\n",
              "                                         Competitors  \n",
              "0               Commerce Signals, Cardlytics, Yodlee  \n",
              "1                                                 -1  \n",
              "2                           Novartis, Baxter, Pfizer  \n",
              "3  Enlivant, Sunrise Senior Living, Brookdale Sen...  \n",
              "4                                                 -1  \n",
              "5                                                 -1  \n",
              "6                                                 -1  \n",
              "7                                                 -1  \n",
              "8                                                 -1  \n",
              "9                ADT Security Services, Protection 1  "
            ]
          },
          "metadata": {
            "tags": []
          },
          "execution_count": 8
        }
      ]
    },
    {
      "cell_type": "markdown",
      "metadata": {
        "id": "jTT8e94ovQZ4"
      },
      "source": [
        "Also retrieve the number of rows and columns in the data frame using the .shape method."
      ]
    },
    {
      "cell_type": "code",
      "metadata": {
        "id": "6fQC6U7JvQZ4",
        "outputId": "903424a3-8326-4c37-9ab8-5bc85ddd5cae"
      },
      "source": [
        "print('The csv file contains', np.shape(glassdoor_data_jobs_raw)[0], 'rows and', np.shape(glassdoor_data_jobs_raw)[1], 'columns.')"
      ],
      "execution_count": null,
      "outputs": [
        {
          "output_type": "stream",
          "text": [
            "The csv file contains 1000 rows and 14 columns.\n"
          ],
          "name": "stdout"
        }
      ]
    },
    {
      "cell_type": "code",
      "metadata": {
        "scrolled": true,
        "id": "qD9QIZ5WvQZ5",
        "outputId": "765e78b4-394b-4861-d96e-1b0c0e01f266"
      },
      "source": [
        "list(glassdoor_data_jobs_raw.columns.values)"
      ],
      "execution_count": null,
      "outputs": [
        {
          "output_type": "execute_result",
          "data": {
            "text/plain": [
              "['Job Title',\n",
              " 'Salary Estimate',\n",
              " 'Job Description',\n",
              " 'Rating',\n",
              " 'Company Name',\n",
              " 'Location',\n",
              " 'Headquarters',\n",
              " 'Size',\n",
              " 'Founded',\n",
              " 'Type of ownership',\n",
              " 'Industry',\n",
              " 'Sector',\n",
              " 'Revenue',\n",
              " 'Competitors']"
            ]
          },
          "metadata": {
            "tags": []
          },
          "execution_count": 10
        }
      ]
    },
    {
      "cell_type": "markdown",
      "metadata": {
        "id": "XgfG_Mg3vQZ6"
      },
      "source": [
        "What about how many missing values in the data frame?"
      ]
    },
    {
      "cell_type": "code",
      "metadata": {
        "id": "E5koGb-vvQZ6",
        "outputId": "68a8f50f-80a5-4516-a600-f8e8dbd5ffde"
      },
      "source": [
        "glassdoor_data_jobs_raw.isnull().sum()"
      ],
      "execution_count": null,
      "outputs": [
        {
          "output_type": "execute_result",
          "data": {
            "text/plain": [
              "Job Title            0\n",
              "Salary Estimate      0\n",
              "Job Description      0\n",
              "Rating               0\n",
              "Company Name         0\n",
              "Location             0\n",
              "Headquarters         0\n",
              "Size                 0\n",
              "Founded              0\n",
              "Type of ownership    0\n",
              "Industry             0\n",
              "Sector               0\n",
              "Revenue              0\n",
              "Competitors          0\n",
              "dtype: int64"
            ]
          },
          "metadata": {
            "tags": []
          },
          "execution_count": 12
        }
      ]
    },
    {
      "cell_type": "markdown",
      "metadata": {
        "id": "4PV8kzD0vQZ7"
      },
      "source": [
        "Looks like I don't have missing values in data! Now, let's explore more to see."
      ]
    },
    {
      "cell_type": "markdown",
      "metadata": {
        "id": "7a0Jppf3vQZ7"
      },
      "source": [
        "## Data Preparation and Cleaning\n",
        "\n",
        "In this section, I will create some functions to prepare and clean data for later data visilizing."
      ]
    },
    {
      "cell_type": "markdown",
      "metadata": {
        "id": "eFLxuo0MvQZ8"
      },
      "source": [
        "# Preparing Data"
      ]
    },
    {
      "cell_type": "code",
      "metadata": {
        "id": "xLlBhma_vQZ8"
      },
      "source": [
        "def prepare_data(df):\n",
        "    selected_columns = ['Job Title',\n",
        "                         'Salary Estimate',\n",
        "                         'Company Name',\n",
        "                         'Location',\n",
        "                         'Size',\n",
        "                         'Type of ownership',\n",
        "                         'Industry',\n",
        "                         'Sector',\n",
        "                        ]\n",
        "    df_new = df[selected_columns].copy()\n",
        "    df_new.where(~(df_new['Salary Estimate'].str.contains('Per Hour', na=False)), np.nan, inplace=True)\n",
        "    df_cols = df['Salary Estimate'].dropna().str.split(\"-\", n = 1, expand = True)\n",
        "    df_new.insert(3, 'Low Salary Estimate',df_cols[0],True)\n",
        "    df_new.insert(4, 'High Salary Estimate',df_cols[1],True)\n",
        "    df_new['Low Salary Estimate'] = convert_to_number(df_new['Low Salary Estimate'])\n",
        "    df_new['High Salary Estimate'] = convert_to_number(df_new['High Salary Estimate'])\n",
        "    df_new['Average Salary Estimate'] = df_new[['Low Salary Estimate', 'High Salary Estimate']].mean(axis=1).astype(int)\n",
        "    return df_new"
      ],
      "execution_count": null,
      "outputs": []
    },
    {
      "cell_type": "markdown",
      "metadata": {
        "id": "ELy5EnYxvQZ9"
      },
      "source": [
        "1. This function is to prepare the dataset from raw data. As my analysis will focus on salary estimate, company size, company industry, location, it removed columns of 'Headquarters','Founded','Revenue','Competitors' which are not needed for this project.\n",
        "2. In order to get average salary estimate, I have to split Average Estimate to two colunns with numbers left only, then get averge by using panadas mean() method."
      ]
    },
    {
      "cell_type": "code",
      "metadata": {
        "id": "sTxBkAqCvQZ9"
      },
      "source": [
        "def convert_to_number(df_col):\n",
        "    locale.setlocale( locale.LC_ALL, '' )\n",
        "    df_col = df_col.dropna().map(lambda x: x.lstrip('$').replace('K','000')).map(lambda x: re.sub(\"[^0-9]\", \"\", x))\n",
        "    return df_col.map(lambda x: locale.atof(x)).map(lambda x: int(x))"
      ],
      "execution_count": null,
      "outputs": []
    },
    {
      "cell_type": "markdown",
      "metadata": {
        "id": "tV18tFTYvQZ9"
      },
      "source": [
        "This function is help to remove $ in the every beginning of string and removed non-numberic letters, also replaced letter 'K' to be number. The function returns column with Integer values."
      ]
    },
    {
      "cell_type": "code",
      "metadata": {
        "id": "MX4ZGpg9vQZ-"
      },
      "source": [
        "def get_data_copy():\n",
        "    glassdoor_data_jobs = prepare_data(glassdoor_data_jobs_raw)\n",
        "    return glassdoor_data_jobs"
      ],
      "execution_count": null,
      "outputs": []
    },
    {
      "cell_type": "markdown",
      "metadata": {
        "id": "GYeH1-qMvQZ-"
      },
      "source": [
        "This funtion is to get prepared dataset, then I will just call it in later invoke.\n",
        "Let's see the dataset looks like by using pandas sample method."
      ]
    },
    {
      "cell_type": "code",
      "metadata": {
        "id": "yyVBxvrCvQZ-",
        "outputId": "11850c2e-6558-4d6f-b558-ba1a27fa17d8"
      },
      "source": [
        "get_data_copy().sample(5)"
      ],
      "execution_count": null,
      "outputs": [
        {
          "output_type": "execute_result",
          "data": {
            "text/html": [
              "<div>\n",
              "<style scoped>\n",
              "    .dataframe tbody tr th:only-of-type {\n",
              "        vertical-align: middle;\n",
              "    }\n",
              "\n",
              "    .dataframe tbody tr th {\n",
              "        vertical-align: top;\n",
              "    }\n",
              "\n",
              "    .dataframe thead th {\n",
              "        text-align: right;\n",
              "    }\n",
              "</style>\n",
              "<table border=\"1\" class=\"dataframe\">\n",
              "  <thead>\n",
              "    <tr style=\"text-align: right;\">\n",
              "      <th></th>\n",
              "      <th>Job Title</th>\n",
              "      <th>Salary Estimate</th>\n",
              "      <th>Company Name</th>\n",
              "      <th>Low Salary Estimate</th>\n",
              "      <th>High Salary Estimate</th>\n",
              "      <th>Location</th>\n",
              "      <th>Size</th>\n",
              "      <th>Type of ownership</th>\n",
              "      <th>Industry</th>\n",
              "      <th>Sector</th>\n",
              "      <th>Average Salary Estimate</th>\n",
              "    </tr>\n",
              "  </thead>\n",
              "  <tbody>\n",
              "    <tr>\n",
              "      <th>809</th>\n",
              "      <td>Data Scientist</td>\n",
              "      <td>$81K-$102K (Glassdoor Est.)</td>\n",
              "      <td>Wish\\n3.5</td>\n",
              "      <td>81000</td>\n",
              "      <td>102000</td>\n",
              "      <td>Seattle, WA</td>\n",
              "      <td>501 to 1000 employees</td>\n",
              "      <td>Company - Private</td>\n",
              "      <td>Other Retail Shops</td>\n",
              "      <td>Retail</td>\n",
              "      <td>91500</td>\n",
              "    </tr>\n",
              "    <tr>\n",
              "      <th>963</th>\n",
              "      <td>Data Scientist</td>\n",
              "      <td>$105K-$138K (Glassdoor Est.)</td>\n",
              "      <td>TransReach</td>\n",
              "      <td>105000</td>\n",
              "      <td>138000</td>\n",
              "      <td>San Francisco, CA</td>\n",
              "      <td>Unknown</td>\n",
              "      <td>Company - Private</td>\n",
              "      <td>-1</td>\n",
              "      <td>-1</td>\n",
              "      <td>121500</td>\n",
              "    </tr>\n",
              "    <tr>\n",
              "      <th>695</th>\n",
              "      <td>Data Scientist</td>\n",
              "      <td>$112K-$149K (Glassdoor Est.)</td>\n",
              "      <td>Visionary Integration Professionals\\n4.3</td>\n",
              "      <td>112000</td>\n",
              "      <td>149000</td>\n",
              "      <td>Washington, DC</td>\n",
              "      <td>501 to 1000 employees</td>\n",
              "      <td>Company - Private</td>\n",
              "      <td>IT Services</td>\n",
              "      <td>Information Technology</td>\n",
              "      <td>130500</td>\n",
              "    </tr>\n",
              "    <tr>\n",
              "      <th>380</th>\n",
              "      <td>Analytical Associate Scientist</td>\n",
              "      <td>$110K-$145K (Glassdoor Est.)</td>\n",
              "      <td>GSK\\n3.9</td>\n",
              "      <td>110000</td>\n",
              "      <td>145000</td>\n",
              "      <td>Richmond, VA</td>\n",
              "      <td>10000+ employees</td>\n",
              "      <td>Company - Public</td>\n",
              "      <td>Biotech &amp; Pharmaceuticals</td>\n",
              "      <td>Biotech &amp; Pharmaceuticals</td>\n",
              "      <td>127500</td>\n",
              "    </tr>\n",
              "    <tr>\n",
              "      <th>28</th>\n",
              "      <td>Report Writer-Data Analyst</td>\n",
              "      <td>$77K-$92K (Glassdoor Est.)</td>\n",
              "      <td>Security Finance Corporation of Spartanburg\\n3.4</td>\n",
              "      <td>77000</td>\n",
              "      <td>92000</td>\n",
              "      <td>Spartanburg, SC</td>\n",
              "      <td>1001 to 5000 employees</td>\n",
              "      <td>Company - Private</td>\n",
              "      <td>Lending</td>\n",
              "      <td>Finance</td>\n",
              "      <td>84500</td>\n",
              "    </tr>\n",
              "  </tbody>\n",
              "</table>\n",
              "</div>"
            ],
            "text/plain": [
              "                          Job Title               Salary Estimate  \\\n",
              "809                  Data Scientist   $81K-$102K (Glassdoor Est.)   \n",
              "963                  Data Scientist  $105K-$138K (Glassdoor Est.)   \n",
              "695                  Data Scientist  $112K-$149K (Glassdoor Est.)   \n",
              "380  Analytical Associate Scientist  $110K-$145K (Glassdoor Est.)   \n",
              "28       Report Writer-Data Analyst    $77K-$92K (Glassdoor Est.)   \n",
              "\n",
              "                                         Company Name  Low Salary Estimate  \\\n",
              "809                                         Wish\\n3.5                81000   \n",
              "963                                        TransReach               105000   \n",
              "695          Visionary Integration Professionals\\n4.3               112000   \n",
              "380                                          GSK\\n3.9               110000   \n",
              "28   Security Finance Corporation of Spartanburg\\n3.4                77000   \n",
              "\n",
              "     High Salary Estimate           Location                    Size  \\\n",
              "809                102000        Seattle, WA   501 to 1000 employees   \n",
              "963                138000  San Francisco, CA                 Unknown   \n",
              "695                149000     Washington, DC   501 to 1000 employees   \n",
              "380                145000       Richmond, VA        10000+ employees   \n",
              "28                  92000    Spartanburg, SC  1001 to 5000 employees   \n",
              "\n",
              "     Type of ownership                   Industry                     Sector  \\\n",
              "809  Company - Private         Other Retail Shops                     Retail   \n",
              "963  Company - Private                         -1                         -1   \n",
              "695  Company - Private                IT Services     Information Technology   \n",
              "380   Company - Public  Biotech & Pharmaceuticals  Biotech & Pharmaceuticals   \n",
              "28   Company - Private                    Lending                    Finance   \n",
              "\n",
              "     Average Salary Estimate  \n",
              "809                    91500  \n",
              "963                   121500  \n",
              "695                   130500  \n",
              "380                   127500  \n",
              "28                     84500  "
            ]
          },
          "metadata": {
            "tags": []
          },
          "execution_count": 18
        }
      ]
    },
    {
      "cell_type": "markdown",
      "metadata": {
        "id": "U2cWwPAcvQaA"
      },
      "source": [
        "## Exploratory Analysis and Visualization\n",
        "\n",
        "Now I have prepared disired dataset I need, my next step is to analyze and clean data that I will need to do statistical analysis and answer some research questions. In this section, I will also create some funtions which will help to process data for visualizing."
      ]
    },
    {
      "cell_type": "markdown",
      "metadata": {
        "id": "0rlj11McvQaA"
      },
      "source": [
        "### -- Company Size in Data Science\n",
        "First, Let's see data science jobs based on company size."
      ]
    },
    {
      "cell_type": "code",
      "metadata": {
        "id": "7AqjcngovQaA",
        "outputId": "66a1018c-007e-49ff-cdf4-2b0d03f3a2fd"
      },
      "source": [
        "get_data_copy().Size.unique().tolist()"
      ],
      "execution_count": null,
      "outputs": [
        {
          "output_type": "execute_result",
          "data": {
            "text/plain": [
              "['51 to 200 employees',\n",
              " '5001 to 10000 employees',\n",
              " '10000+ employees',\n",
              " '501 to 1000 employees',\n",
              " '1001 to 5000 employees',\n",
              " '1 to 50 employees',\n",
              " '201 to 500 employees',\n",
              " 'Unknown',\n",
              " nan,\n",
              " '-1']"
            ]
          },
          "metadata": {
            "tags": []
          },
          "execution_count": 21
        }
      ]
    },
    {
      "cell_type": "code",
      "metadata": {
        "id": "DPCHH_QMvQaB"
      },
      "source": [
        "def get_company_size_data_summary(df):\n",
        "    return df[(df.Size != '-1' ) & (df.Size != 'Unknown')]"
      ],
      "execution_count": null,
      "outputs": []
    },
    {
      "cell_type": "markdown",
      "metadata": {
        "id": "xnHs-aYLvQaB"
      },
      "source": [
        "As you can see from company size, there's unwanted data which are 'Unknown' and '-1'. This function is to remove them and returns new dataset."
      ]
    },
    {
      "cell_type": "markdown",
      "metadata": {
        "id": "kJnGAfgjvQaB"
      },
      "source": [
        "### -- Company Type in Data Science\n",
        "Let's see data science jobs based on company Type."
      ]
    },
    {
      "cell_type": "code",
      "metadata": {
        "id": "7iqS_TipvQaC",
        "outputId": "37ec6a1e-cffa-4752-c82d-2a25e6b484f0"
      },
      "source": [
        "get_data_copy()['Type of ownership'].unique().tolist()"
      ],
      "execution_count": null,
      "outputs": [
        {
          "output_type": "execute_result",
          "data": {
            "text/plain": [
              "['Company - Private',\n",
              " 'Company - Public',\n",
              " 'Government',\n",
              " 'Subsidiary or Business Segment',\n",
              " 'Non-profit Organisation',\n",
              " 'Private Practice / Firm',\n",
              " 'Hospital',\n",
              " nan,\n",
              " 'Other Organisation',\n",
              " '-1',\n",
              " 'Unknown',\n",
              " 'College / University',\n",
              " 'Contract']"
            ]
          },
          "metadata": {
            "tags": []
          },
          "execution_count": 23
        }
      ]
    },
    {
      "cell_type": "code",
      "metadata": {
        "id": "GQFM3QXjvQaC"
      },
      "source": [
        "def get_company_type_summary(df):\n",
        "    df.dropna()\n",
        "    col_series = df['Type of ownership'].value_counts()\n",
        "    result_df = col_series.to_frame()\n",
        "    sum1 = 0\n",
        "    sum2 = 0\n",
        "    for idx, value  in col_series.iteritems():\n",
        "        if 0 < value < 10:\n",
        "            result_df.at[idx, :] = 0\n",
        "            sum1 = sum1 + value\n",
        "            result_df.at['Others', :] = sum1\n",
        "        if 10 <= value < 30:\n",
        "            result_df.at[idx, :] = 0\n",
        "            sum2 = sum2 + value\n",
        "            result_df.at['Not Sure', :] = sum2\n",
        "    result_df = result_df[(result_df['Type of ownership'] != 0)]\n",
        "    return result_df.iloc[:,0]"
      ],
      "execution_count": null,
      "outputs": []
    },
    {
      "cell_type": "markdown",
      "metadata": {
        "id": "W6t4dswRvQaD"
      },
      "source": [
        "1. In 'Type of ownership', there's unwanted data which are 'Unknown' and '-1' and nan.\n",
        "2. Also in function, I changed 'Unknown' and '-1' and nan to be 'Ohters' and 'Not Sure' based on values."
      ]
    },
    {
      "cell_type": "code",
      "metadata": {
        "id": "GB0yJXpXvQaD",
        "outputId": "92179f8e-7a17-48b1-d63e-e4b7b87c3a8a"
      },
      "source": [
        "company_type_summary = get_company_type_summary(get_data_copy())\n",
        "company_type_summary"
      ],
      "execution_count": null,
      "outputs": [
        {
          "output_type": "execute_result",
          "data": {
            "text/plain": [
              "Company - Private                 541.0\n",
              "Company - Public                  271.0\n",
              "Non-profit Organisation            48.0\n",
              "Subsidiary or Business Segment     40.0\n",
              "Not Sure                           37.0\n",
              "Others                             33.0\n",
              "Name: Type of ownership, dtype: float64"
            ]
          },
          "metadata": {
            "tags": []
          },
          "execution_count": 25
        }
      ]
    },
    {
      "cell_type": "markdown",
      "metadata": {
        "id": "aLTRU-3dvQaD"
      },
      "source": [
        "Now, I have more clear data for company type."
      ]
    },
    {
      "cell_type": "markdown",
      "metadata": {
        "id": "Zvs8AJ9YvQaE"
      },
      "source": [
        "### -- Industry Distribution in Data Science"
      ]
    },
    {
      "cell_type": "code",
      "metadata": {
        "scrolled": true,
        "id": "u_iWo9WlvQaE",
        "outputId": "05bec2f3-360f-4f68-e0e2-8a303d977c08"
      },
      "source": [
        "get_data_copy().Industry.unique().tolist()"
      ],
      "execution_count": null,
      "outputs": [
        {
          "output_type": "execute_result",
          "data": {
            "text/plain": [
              "['Advertising & Marketing',\n",
              " 'Research & Development',\n",
              " 'Biotech & Pharmaceuticals',\n",
              " 'Healthcare Services & Hospitals',\n",
              " 'Government Agencies',\n",
              " 'Enterprise Software & Network Solutions',\n",
              " 'Internet',\n",
              " 'Security Services',\n",
              " 'Food & Drink Manufacturing',\n",
              " 'Insurance Operators',\n",
              " 'Consulting',\n",
              " 'Lending',\n",
              " 'Chemical Manufacturing',\n",
              " 'Aerospace & Defence',\n",
              " '-1',\n",
              " 'Investment Banking & Asset Management',\n",
              " 'IT Services',\n",
              " 'Banks & Building Societies',\n",
              " 'Computer Hardware & Software',\n",
              " 'Colleges & Universities',\n",
              " nan,\n",
              " 'Wholesale',\n",
              " 'Consumer Products Manufacturing',\n",
              " 'Staffing & Outsourcing',\n",
              " 'Grocery Shops & Supermarkets',\n",
              " 'Architectural & Engineering Services',\n",
              " 'Video Games',\n",
              " 'Department, Clothing, & Shoe Shops',\n",
              " 'Cable, Internet & Telephone Providers',\n",
              " 'Energy',\n",
              " 'Beauty & Personal Accessories Shops',\n",
              " 'Preschool & Child Care',\n",
              " 'Utilities',\n",
              " 'Transportation Management',\n",
              " 'Oil & Gas Exploration & Production',\n",
              " 'Consumer Product Hire',\n",
              " 'Express Delivery Services',\n",
              " 'Social Services',\n",
              " 'Electrical & Electronic Manufacturing',\n",
              " 'Oil & Gas Services',\n",
              " 'Financial Transaction Processing',\n",
              " 'Primary & Secondary Education',\n",
              " 'Building & Construction',\n",
              " 'Mining',\n",
              " 'Venture Capital & Private Equity',\n",
              " 'Financial Analytics & Research',\n",
              " 'Other Retail Shops',\n",
              " 'Accounting',\n",
              " 'Industrial Manufacturing',\n",
              " 'Rail Freight',\n",
              " 'Real Estate',\n",
              " 'Transportation Equipment Manufacturing',\n",
              " 'Film Production & Distribution',\n",
              " 'Food & Beverage Shops',\n",
              " 'Home Furniture and Houseware Shops',\n",
              " 'TV Broadcasting & Cable Networks',\n",
              " 'Telecommunications Services',\n",
              " 'Membership Organisations',\n",
              " 'Sporting Goods Shops',\n",
              " 'Health, Beauty & Fitness',\n",
              " 'Logistics & Supply Chain',\n",
              " 'Farm Support Services',\n",
              " 'Stock Exchanges',\n",
              " 'Brokerage Services',\n",
              " 'Radio',\n",
              " 'Auctions & Galleries',\n",
              " 'Regional & County Councils',\n",
              " 'Pet & Pet Supply Shops',\n",
              " 'Petrol Stations',\n",
              " 'Ticket Sales',\n",
              " 'Legal',\n",
              " 'Publishing',\n",
              " 'Insurance Agencies & Brokerages']"
            ]
          },
          "metadata": {
            "tags": []
          },
          "execution_count": 28
        }
      ]
    },
    {
      "cell_type": "code",
      "metadata": {
        "id": "hhhWArXuvQaE",
        "outputId": "d7a58b7e-2e63-4cfc-f52f-c05137f1cca4"
      },
      "source": [
        "get_data_copy().Industry.value_counts()"
      ],
      "execution_count": null,
      "outputs": [
        {
          "output_type": "execute_result",
          "data": {
            "text/plain": [
              "Biotech & Pharmaceuticals                  121\n",
              "IT Services                                116\n",
              "-1                                          95\n",
              "Enterprise Software & Network Solutions     90\n",
              "Computer Hardware & Software                76\n",
              "                                          ... \n",
              "Radio                                        1\n",
              "Farm Support Services                        1\n",
              "Brokerage Services                           1\n",
              "Legal                                        1\n",
              "Logistics & Supply Chain                     1\n",
              "Name: Industry, Length: 72, dtype: int64"
            ]
          },
          "metadata": {
            "tags": []
          },
          "execution_count": 29
        }
      ]
    },
    {
      "cell_type": "markdown",
      "metadata": {
        "id": "341FPPAkvQaF"
      },
      "source": [
        "There's '-1' in dataset, I will need to remove it in case it will cause any misleading."
      ]
    },
    {
      "cell_type": "code",
      "metadata": {
        "id": "HeMY1F5yvQaF"
      },
      "source": [
        "def get_company_industry_summary(df):\n",
        "    df.dropna()\n",
        "    col_series = df.Industry.value_counts()\n",
        "    result_df = col_series.to_frame()\n",
        "    total = 0\n",
        "    for idx, value  in col_series.iteritems():\n",
        "        if value < 5:\n",
        "            result_df.at[idx, :] = 0\n",
        "            total = total + value\n",
        "            result_df.at['Others', :] = total\n",
        "    result_df = result_df[(result_df.Industry != 0)]\n",
        "    return result_df.iloc[:,0].astype(int).drop(labels=['-1'])"
      ],
      "execution_count": null,
      "outputs": []
    },
    {
      "cell_type": "code",
      "metadata": {
        "scrolled": true,
        "id": "qMcrIY2CvQaF",
        "outputId": "9ffda082-ff10-4c8e-e517-c6bb13d48c42"
      },
      "source": [
        "company_industry_summary = get_company_industry_summary(get_data_copy())\n",
        "company_industry_summary"
      ],
      "execution_count": null,
      "outputs": [
        {
          "output_type": "execute_result",
          "data": {
            "text/plain": [
              "Biotech & Pharmaceuticals                  121\n",
              "IT Services                                116\n",
              "Enterprise Software & Network Solutions     90\n",
              "Computer Hardware & Software                76\n",
              "Internet                                    45\n",
              "Healthcare Services & Hospitals             45\n",
              "Staffing & Outsourcing                      44\n",
              "Consulting                                  42\n",
              "Insurance Operators                         40\n",
              "Aerospace & Defence                         25\n",
              "Banks & Building Societies                  23\n",
              "Investment Banking & Asset Management       22\n",
              "Advertising & Marketing                     19\n",
              "Government Agencies                         14\n",
              "Research & Development                      11\n",
              "Lending                                     10\n",
              "Colleges & Universities                      8\n",
              "Consumer Products Manufacturing              8\n",
              "Architectural & Engineering Services         7\n",
              "Utilities                                    6\n",
              "Food & Drink Manufacturing                   6\n",
              "Video Games                                  6\n",
              "Chemical Manufacturing                       5\n",
              "Cable, Internet & Telephone Providers        5\n",
              "Others                                      81\n",
              "Name: Industry, dtype: int64"
            ]
          },
          "metadata": {
            "tags": []
          },
          "execution_count": 31
        }
      ]
    },
    {
      "cell_type": "markdown",
      "metadata": {
        "id": "YSeIjNzjvQaG"
      },
      "source": [
        "Now, unwanted data got cleaned."
      ]
    },
    {
      "cell_type": "markdown",
      "metadata": {
        "id": "nsuyqBnWvQaG"
      },
      "source": [
        "### -- Location Distribution in Data Science\n",
        "Let's visualize the company Location in data science from given dataset."
      ]
    },
    {
      "cell_type": "code",
      "metadata": {
        "id": "ZU7Vi1UjvQaG",
        "outputId": "09242573-5298-4bb4-e8d3-37493af67cea"
      },
      "source": [
        "get_data_copy().Location.unique().tolist()"
      ],
      "execution_count": null,
      "outputs": [
        {
          "output_type": "execute_result",
          "data": {
            "text/plain": [
              "['New York, NY',\n",
              " 'Chantilly, VA',\n",
              " 'Cambridge, MA',\n",
              " 'Overland Park, KS',\n",
              " 'San Francisco, CA',\n",
              " 'Atlanta, GA',\n",
              " 'Miami, FL',\n",
              " 'South San Francisco, CA',\n",
              " 'Dallas, TX',\n",
              " 'New Jersey',\n",
              " 'Oregon',\n",
              " 'Chevy Chase, MD',\n",
              " 'Scotts Valley, CA',\n",
              " 'Boston, MA',\n",
              " 'Lehi, UT',\n",
              " 'Naperville, IL',\n",
              " 'Herndon, VA',\n",
              " 'New Bedford, MA',\n",
              " 'Denver, CO',\n",
              " 'Alexandria, VA',\n",
              " 'Hill AFB, UT',\n",
              " 'Salt Lake City, UT',\n",
              " 'Woodbridge, NJ',\n",
              " 'Spartanburg, SC',\n",
              " 'Ipswich, MA',\n",
              " 'Lexington, MA',\n",
              " 'Akron, OH',\n",
              " 'Bedford, MA',\n",
              " 'Madison, WI',\n",
              " 'Hoboken, NJ',\n",
              " 'Milwaukee, WI',\n",
              " 'Pittsburgh, PA',\n",
              " 'Reston, VA',\n",
              " 'Waltham, MA',\n",
              " 'Gardnerville, NV',\n",
              " 'Washington, DC',\n",
              " 'Bridgeport, WV',\n",
              " 'Seattle, WA',\n",
              " 'Newton, MA',\n",
              " 'White Sands Missile Range, NM',\n",
              " 'Santa Clara, CA',\n",
              " 'San Jose, CA',\n",
              " 'Los Angeles, CA',\n",
              " 'Smithfield, RI',\n",
              " nan,\n",
              " 'Saint Louis, MO',\n",
              " 'Irvine, CA',\n",
              " 'San Diego, CA',\n",
              " 'Centennial, CO',\n",
              " 'Sheboygan, WI',\n",
              " 'Chicago, IL',\n",
              " 'Morrisville, NC',\n",
              " 'Cincinnati, OH',\n",
              " 'Provo, UT',\n",
              " 'Annapolis Junction, MD',\n",
              " 'Detroit, MI',\n",
              " 'Coral Gables, FL',\n",
              " 'Novato, CA',\n",
              " 'Remote',\n",
              " 'Dearborn, MI',\n",
              " 'Merrifield, VA',\n",
              " 'Richmond, VA',\n",
              " 'Hauppauge, NY',\n",
              " 'Aurora, IL',\n",
              " 'Westlake, TX',\n",
              " 'Worcester, MA',\n",
              " 'Raleigh, NC',\n",
              " 'San Antonio, TX',\n",
              " 'Mountain View, CA',\n",
              " 'Memphis, TN',\n",
              " 'Blue Ash, OH',\n",
              " 'United States , Raleigh',\n",
              " 'Appleton, WI',\n",
              " 'Indianapolis, IN',\n",
              " 'Westminster, CO',\n",
              " 'Vicksburg, MS',\n",
              " 'Novi, MI',\n",
              " 'Philadelphia, PA',\n",
              " 'Austin, TX',\n",
              " 'New Orleans, LA',\n",
              " 'San Rafael, CA',\n",
              " 'Stamford, CT',\n",
              " 'Winston-Salem, NC',\n",
              " 'United States',\n",
              " 'Wright Patterson AFB, OH',\n",
              " 'Bothell, WA',\n",
              " 'Simi Valley, CA',\n",
              " 'Bethesda, MD',\n",
              " 'Hoopeston, IL',\n",
              " 'San Mateo, CA',\n",
              " 'Rancho Cucamonga, CA',\n",
              " 'Jamaica, NY',\n",
              " 'Fort Belvoir, VA',\n",
              " 'South Plainfield, NJ',\n",
              " 'Vail, CO',\n",
              " 'Palo Alto, CA',\n",
              " 'Ann Arbor, MI',\n",
              " 'Richland, WA',\n",
              " 'Kansas City, MO',\n",
              " 'Albany, NY',\n",
              " 'Windsor, CT',\n",
              " 'Houston, TX',\n",
              " 'McLean, VA',\n",
              " 'Omaha, NE',\n",
              " 'Tulsa, OK',\n",
              " 'Aliso Viejo, CA',\n",
              " 'Des Moines, IA',\n",
              " 'Bloomington, MN',\n",
              " 'New Haven, CT',\n",
              " 'San Bruno, CA',\n",
              " 'Pomona, CA',\n",
              " 'Fargo, ND',\n",
              " 'Santa Monica, CA',\n",
              " 'Baltimore, MD',\n",
              " 'Blue Bell, PA',\n",
              " 'Orchard Park, NY',\n",
              " 'Beavercreek, OH',\n",
              " 'Thousand Oaks, CA',\n",
              " 'Springfield, VA',\n",
              " 'Fremont, CA',\n",
              " 'Columbia, MO',\n",
              " 'Bellevue, WA',\n",
              " 'Santa Barbara, CA',\n",
              " 'Fairfax, VA',\n",
              " 'Campbell, CA',\n",
              " 'Burlingame, CA',\n",
              " 'Woodland Hills, CA',\n",
              " 'Minneapolis, MN',\n",
              " 'Greenfield, IN',\n",
              " 'Quincy, MA',\n",
              " 'Aurora, CO',\n",
              " 'Foster City, CA',\n",
              " 'Northbrook, IL',\n",
              " 'Patuxent, Anne Arundel, MD',\n",
              " 'Huntsville, AL',\n",
              " 'Tacoma, WA',\n",
              " 'Norwood, MA',\n",
              " 'Redmond, WA',\n",
              " 'Gaithersburg, MD',\n",
              " 'Dulles, VA',\n",
              " 'Bartlesville, OK',\n",
              " 'Virginia',\n",
              " 'Walnut Creek, CA',\n",
              " 'Glendale, CA',\n",
              " 'Rockville, MD',\n",
              " 'Arlington, VA',\n",
              " 'North Chicago, IL',\n",
              " 'Vancouver, WA',\n",
              " 'Berkeley, CA',\n",
              " 'Collegeville, PA',\n",
              " 'Concord, CA',\n",
              " 'San Carlos, CA',\n",
              " 'Edison, NJ',\n",
              " 'Durham, NC',\n",
              " 'Monterey, CA',\n",
              " 'Birmingham, AL',\n",
              " 'Bayonne, NJ',\n",
              " 'Brooklyn, NY',\n",
              " 'Folsom, CA',\n",
              " 'Oakland, CA',\n",
              " 'Whittier, CA',\n",
              " 'Tysons, VA',\n",
              " 'Somerville, MA',\n",
              " 'Providence, RI',\n",
              " 'Hartford, CT',\n",
              " 'Columbia, MD',\n",
              " 'Sunnyvale, CA',\n",
              " 'Red Bank, NJ',\n",
              " 'Menlo Park, CA',\n",
              " 'Norman, OK',\n",
              " 'Richardson Springs, CA',\n",
              " 'Allen, TX',\n",
              " 'Florence, KY',\n",
              " 'Broomfield, CO',\n",
              " 'Rocklin, CA',\n",
              " 'Buckhead, GA',\n",
              " 'Fort Lauderdale, FL',\n",
              " 'Lombard, IL',\n",
              " 'Granite City, IL',\n",
              " 'Brentwood, TN',\n",
              " 'Bristol, CT',\n",
              " 'Germantown, MD',\n",
              " 'Fishers, IN',\n",
              " 'Wilmington, DE',\n",
              " 'Charlottesville, VA',\n",
              " 'Oxnard, CA',\n",
              " 'Watertown, MA',\n",
              " 'Lake Oswego, OR',\n",
              " 'Charleston, SC',\n",
              " 'Portland, OR',\n",
              " 'Keene, NH',\n",
              " 'Rosemont, IL',\n",
              " 'Napa, CA',\n",
              " 'Dayton, OH',\n",
              " 'Livermore, CA',\n",
              " 'Andover, MA',\n",
              " 'New Hyde Park, NY',\n",
              " 'Conshohocken, PA',\n",
              " 'Wichita, KS',\n",
              " 'Elmhurst, IL',\n",
              " 'Sandy, UT',\n",
              " 'Malvern, PA',\n",
              " 'College Park, MD',\n",
              " 'Winters, TX',\n",
              " 'Great Neck, NY',\n",
              " 'Costa Mesa, CA',\n",
              " 'Fort Lee, NJ',\n",
              " 'Duluth, GA',\n",
              " 'West New York, NJ',\n",
              " 'Sterling, VA',\n",
              " 'King of Prussia, PA',\n",
              " 'Ithaca, NY',\n",
              " 'Henrico, VA',\n",
              " 'Fort Sam Houston, TX',\n",
              " 'El Segundo, CA',\n",
              " 'Kirkland, WA',\n",
              " 'Chesapeake, VA',\n",
              " 'Buffalo, NY',\n",
              " 'Charlotte, NC',\n",
              " 'Chandler, AZ',\n",
              " 'Sandpoint, ID',\n",
              " 'San Ramon, CA',\n",
              " 'Saint Petersburg Beach, FL',\n",
              " 'Nashville, TN',\n",
              " 'Longmont, CO',\n",
              " 'Phoenix, AZ',\n",
              " 'Louisville, KY',\n",
              " 'Gresham, OR',\n",
              " 'Holyoke, MA',\n",
              " 'Boise, ID',\n",
              " 'Cleveland, OH',\n",
              " 'Hoover, AL',\n",
              " 'Vienna, VA',\n",
              " 'Greenwich, CT',\n",
              " 'San Clemente, CA',\n",
              " 'West Palm Beach, FL',\n",
              " 'Oshkosh, WI',\n",
              " 'Columbus, OH',\n",
              " 'Juno Beach, FL',\n",
              " 'Adelphi, MD',\n",
              " 'Honolulu, HI',\n",
              " 'Oak Ridge, TN',\n",
              " 'Rosemead, CA',\n",
              " 'High Point, NC',\n",
              " 'Redwood City, CA',\n",
              " 'North Palm Beach, FL',\n",
              " 'Fort Huachuca, AZ',\n",
              " 'Twin Falls, ID',\n",
              " 'Wellesley, MA',\n",
              " 'Ewing, NJ',\n",
              " 'Natick, MA',\n",
              " 'Schaumburg, IL',\n",
              " 'Auburn Hills, MI',\n",
              " 'Boulder, CO',\n",
              " 'Cedar Rapids, IA',\n",
              " 'Hopkins, MN',\n",
              " 'Fulton, MD',\n",
              " 'Bentonville, AR',\n",
              " 'Norfolk, VA',\n",
              " 'Dania Beach, FL',\n",
              " 'Emeryville, CA',\n",
              " 'Tempe, AZ',\n",
              " 'Lincoln, NE',\n",
              " 'Carle Place, NY',\n",
              " 'Boca Raton, FL',\n",
              " 'Langley AFB, VA',\n",
              " 'Quantico, VA',\n",
              " 'Jericho, NY',\n",
              " 'Davis, CA',\n",
              " 'Alpharetta, GA',\n",
              " 'Plano, TX',\n",
              " 'Santa Ana, CA',\n",
              " 'Panama City, FL',\n",
              " 'Cambridge, MD',\n",
              " 'Brea, CA',\n",
              " 'Harrisburg, PA',\n",
              " 'Southfield, MI',\n",
              " 'Woonsocket, RI',\n",
              " 'Clayton, MO',\n",
              " 'Burbank, CA',\n",
              " 'Rochester, NY',\n",
              " 'Irving, TX',\n",
              " 'Carlsbad, CA',\n",
              " 'Fort George G Meade, MD',\n",
              " 'Culver City, CA',\n",
              " 'Jersey City, NJ',\n",
              " 'Valencia, CA',\n",
              " 'Irwindale, CA',\n",
              " 'Cary, NC',\n",
              " 'Gwynn Oak, MD']"
            ]
          },
          "metadata": {
            "tags": []
          },
          "execution_count": 32
        }
      ]
    },
    {
      "cell_type": "code",
      "metadata": {
        "id": "paiPp5jRvQaG"
      },
      "source": [
        "def get_company_location_data_summary(df):\n",
        "    return df.Location.dropna().value_counts().head(10)"
      ],
      "execution_count": null,
      "outputs": []
    },
    {
      "cell_type": "code",
      "metadata": {
        "id": "ovhIR4qRvQaH",
        "outputId": "b3fbf691-146e-4709-cd84-40ef6bf8a0f8"
      },
      "source": [
        "company_location_summary = get_company_location_data_summary(get_data_copy())\n",
        "company_location_summary"
      ],
      "execution_count": null,
      "outputs": [
        {
          "output_type": "execute_result",
          "data": {
            "text/plain": [
              "New York, NY         62\n",
              "San Francisco, CA    62\n",
              "Cambridge, MA        37\n",
              "Seattle, WA          31\n",
              "Washington, DC       25\n",
              "Chicago, IL          25\n",
              "Boston, MA           24\n",
              "Pittsburgh, PA       17\n",
              "Atlanta, GA          14\n",
              "Richmond, VA         13\n",
              "Name: Location, dtype: int64"
            ]
          },
          "metadata": {
            "tags": []
          },
          "execution_count": 34
        }
      ]
    },
    {
      "cell_type": "markdown",
      "metadata": {
        "id": "1S_4XXh6vQaH"
      },
      "source": [
        "# Data Visualization"
      ]
    },
    {
      "cell_type": "markdown",
      "metadata": {
        "id": "YCxJoksAvQaH"
      },
      "source": [
        "### -- Company Size in Data Science\n",
        "I have created funtion get_company_size_data_summary which is use to visualize the company size in data science from given dataset by horizontal bar plot."
      ]
    },
    {
      "cell_type": "code",
      "metadata": {
        "id": "73WE5TrZvQaI"
      },
      "source": [
        "company_size_summary = get_company_size_data_summary(get_data_copy())"
      ],
      "execution_count": null,
      "outputs": []
    },
    {
      "cell_type": "code",
      "metadata": {
        "id": "2rJasalLvQaI",
        "outputId": "cec40fb6-9121-43da-b72a-87e4fcb2e5a3"
      },
      "source": [
        "plt.figure(figsize=(10, 6))\n",
        "sns.countplot(y=company_size_summary.Size)\n",
        "plt.xticks(rotation=75);\n",
        "plt.title('Data Science Jobs compare to Company Size')\n",
        "plt.ylabel(None);"
      ],
      "execution_count": null,
      "outputs": [
        {
          "output_type": "display_data",
          "data": {
            "image/png": "[encoded data removed]",
            "text/plain": [
              "<Figure size 720x432 with 1 Axes>"
            ]
          },
          "metadata": {
            "tags": [],
            "needs_background": "light"
          }
        }
      ]
    },
    {
      "cell_type": "markdown",
      "metadata": {
        "id": "mDjXwP5mvQaI"
      },
      "source": [
        "It seems like more data science jobs in size of '51-200 employees', less in '5001-10000 employees'."
      ]
    },
    {
      "cell_type": "markdown",
      "metadata": {
        "id": "9HcnPhdtvQaJ"
      },
      "source": [
        "### -- Average Salary compare to Company Size in Data Science\n",
        "How about average salary estimate against company size? I can plot this information using a horizontal bar chart."
      ]
    },
    {
      "cell_type": "code",
      "metadata": {
        "id": "fTkI0ruOvQaJ"
      },
      "source": [
        "company_size_salary_summary = get_company_size_data_summary(get_data_copy())"
      ],
      "execution_count": null,
      "outputs": []
    },
    {
      "cell_type": "code",
      "metadata": {
        "id": "dADTD7DyvQaJ",
        "outputId": "696001de-1f2c-4ac3-993a-b07242476b7d"
      },
      "source": [
        "plt.figure(figsize=(10, 7))\n",
        "plt.xticks(rotation=55)\n",
        "sns.barplot(x=\"Size\", y=\"Average Salary Estimate\", data=company_size_salary_summary)\n",
        "plt.title(\"Average Salary Estimation By Company Size\");\n",
        "plt.xlabel('Compamy Size');"
      ],
      "execution_count": null,
      "outputs": [
        {
          "output_type": "display_data",
          "data": {
            "image/png": "[encoded data removed]",
            "text/plain": [
              "<Figure size 720x504 with 1 Axes>"
            ]
          },
          "metadata": {
            "tags": [],
            "needs_background": "light"
          }
        }
      ]
    },
    {
      "cell_type": "markdown",
      "metadata": {
        "id": "xuP-8uyevQaJ"
      },
      "source": [
        "There's no very big different for how much the companys pays for data science jobs based on analysis."
      ]
    },
    {
      "cell_type": "markdown",
      "metadata": {
        "id": "gs39tpmQvQaK"
      },
      "source": [
        "### -- Company Type in Data Science\n",
        "Let's visualize the company type in data science from given dataset by pie plot."
      ]
    },
    {
      "cell_type": "code",
      "metadata": {
        "id": "IGZCVXS7vQaK",
        "outputId": "a0004614-945d-4e35-e0aa-6fadd018abe0"
      },
      "source": [
        "company_type_summary = get_company_type_summary(get_data_copy())\n",
        "company_type_summary"
      ],
      "execution_count": null,
      "outputs": [
        {
          "output_type": "execute_result",
          "data": {
            "text/plain": [
              "Company - Private                 541.0\n",
              "Company - Public                  271.0\n",
              "Non-profit Organisation            48.0\n",
              "Subsidiary or Business Segment     40.0\n",
              "Not Sure                           37.0\n",
              "Others                             33.0\n",
              "Name: Type of ownership, dtype: float64"
            ]
          },
          "metadata": {
            "tags": []
          },
          "execution_count": 39
        }
      ]
    },
    {
      "cell_type": "code",
      "metadata": {
        "id": "ro6329RWvQaK",
        "outputId": "f54be247-084d-4011-b8db-58953b6b41f4"
      },
      "source": [
        "plt.figure(figsize=(12,6))\n",
        "explode = (0.1, 0, 0, 0, 0, 0) \n",
        "plt.title('Company type distribution in Data Science')\n",
        "plt.pie(company_type_summary, labels=company_type_summary.index, explode=explode,autopct='%.f%%', shadow=False, radius = 1, startangle=180);"
      ],
      "execution_count": null,
      "outputs": [
        {
          "output_type": "display_data",
          "data": {
            "image/png": "[encoded data removed]",
            "text/plain": [
              "<Figure size 864x432 with 1 Axes>"
            ]
          },
          "metadata": {
            "tags": []
          }
        }
      ]
    },
    {
      "cell_type": "markdown",
      "metadata": {
        "id": "pN8SBgTkvQaL"
      },
      "source": [
        "Apparently, private manys requie more data science relevant jobs than other types company."
      ]
    },
    {
      "cell_type": "markdown",
      "metadata": {
        "id": "1A0_8KtHvQaL"
      },
      "source": [
        "### -- Industry Distribution in Data Science"
      ]
    },
    {
      "cell_type": "code",
      "metadata": {
        "id": "ArUDCUMHvQaL"
      },
      "source": [
        "company_industry_summary = get_company_industry_summary(get_data_copy())"
      ],
      "execution_count": null,
      "outputs": []
    },
    {
      "cell_type": "code",
      "metadata": {
        "id": "k0EJYhpYvQaM",
        "outputId": "8a94a5cf-6c68-47e9-c28e-d5db5fa3b786"
      },
      "source": [
        "plt.figure(figsize=(10, 8))\n",
        "sns.barplot(company_industry_summary, company_industry_summary.index)\n",
        "plt.title(\"Industry Distribution in Data Science\");\n",
        "plt.xlabel('count');"
      ],
      "execution_count": null,
      "outputs": [
        {
          "output_type": "display_data",
          "data": {
            "image/png": "[encoded data removed]",
            "text/plain": [
              "<Figure size 720x576 with 1 Axes>"
            ]
          },
          "metadata": {
            "tags": [],
            "needs_background": "light"
          }
        }
      ]
    },
    {
      "cell_type": "markdown",
      "metadata": {
        "id": "LXejM2IZvQaM"
      },
      "source": [
        "Many industires need data science relevant jobs, especially in Biotech, IT, Softwar & hardware."
      ]
    },
    {
      "cell_type": "markdown",
      "metadata": {
        "id": "Uw9XK7uPvQaM"
      },
      "source": [
        "### -- Location Distribution in Data Science"
      ]
    },
    {
      "cell_type": "code",
      "metadata": {
        "id": "q9kp-U3PvQaN"
      },
      "source": [
        "top10_company_location_summary = get_company_location_data_summary(get_data_copy())"
      ],
      "execution_count": null,
      "outputs": []
    },
    {
      "cell_type": "code",
      "metadata": {
        "id": "5pqqORUKvQaN",
        "outputId": "265b5354-17c8-4dee-e0df-2a26948e921c"
      },
      "source": [
        "plt.figure(figsize=(12, 8))\n",
        "sns.barplot(top10_company_location_summary.index, top10_company_location_summary)\n",
        "plt.xticks(rotation=75)\n",
        "plt.title(\"Top 10 locations in Data Science\")\n",
        "plt.ylabel('Count');\n",
        "plt.xlabel('Cities');"
      ],
      "execution_count": null,
      "outputs": [
        {
          "output_type": "display_data",
          "data": {
            "image/png": "[encoded data removed]",
            "text/plain": [
              "<Figure size 864x576 with 1 Axes>"
            ]
          },
          "metadata": {
            "tags": [],
            "needs_background": "light"
          }
        }
      ]
    },
    {
      "cell_type": "markdown",
      "metadata": {
        "id": "xgwNvo8EvQaN"
      },
      "source": [
        "Looks new York, NY and San Francissco CA, in USA have more data science relevant jobs."
      ]
    },
    {
      "cell_type": "markdown",
      "metadata": {
        "id": "N3LA4F_NvQaO"
      },
      "source": [
        "## Asking and Answering Questions\n",
        "\n",
        "#### Q1. Which state most popular for data science jobs?"
      ]
    },
    {
      "cell_type": "code",
      "metadata": {
        "id": "IURXjqxKvQaO",
        "outputId": "ef83506b-70f3-4db4-a679-ec36f954f570"
      },
      "source": [
        "def get_most_popular_state(df, col_name):\n",
        "    max_value = np.max(df[col_name], axis=0)\n",
        "    new_df = df[df[col_name] ==  max_value].Location.tolist()\n",
        "    states = []\n",
        "    for item in new_df:\n",
        "        lst = item.split(', ')\n",
        "        if(len(lst) > 1): \n",
        "            states.append(lst[1])\n",
        "    return Counter(states).most_common(1)[0]\n",
        "\n",
        "most_common,num_most_common =  get_most_popular_state(get_company_size_data_summary(get_data_copy()), 'High Salary Estimate')\n",
        "\n",
        "print('The most popular state for data science jobs is', most_common)"
      ],
      "execution_count": null,
      "outputs": [
        {
          "output_type": "stream",
          "text": [
            "The most popular state for data science jobs is CA\n"
          ],
          "name": "stdout"
        }
      ]
    },
    {
      "cell_type": "markdown",
      "metadata": {
        "id": "m90P-NQAvQaO"
      },
      "source": [
        "#### Q2. What's the most common title for data science jobs?"
      ]
    },
    {
      "cell_type": "code",
      "metadata": {
        "id": "rhkTvdESvQaP",
        "outputId": "578229f5-a658-48f3-ff82-281439b58751"
      },
      "source": [
        "common_job_title = get_data_copy()['Job Title'].value_counts().head(1)\n",
        "print('The most common title for data science jobs is', common_job_title.index.values.tolist()[0])"
      ],
      "execution_count": null,
      "outputs": [
        {
          "output_type": "stream",
          "text": [
            "The most common title for data science jobs is Data Scientist\n"
          ],
          "name": "stdout"
        }
      ]
    },
    {
      "cell_type": "markdown",
      "metadata": {
        "id": "DnwfXoHavQaP"
      },
      "source": [
        "#### Q3. What's the distributions of top 5 industires of data science jobs?"
      ]
    },
    {
      "cell_type": "code",
      "metadata": {
        "id": "9tFDPIdYvQaP",
        "outputId": "970ff9b9-a0f4-4a21-c4ad-c30476792b95"
      },
      "source": [
        "top5_industries_data_science = get_company_industry_summary(get_data_copy()).head(5).index.values.tolist()\n",
        "print('The top 5 industries in data science jobs are: \\n')\n",
        "list(map(lambda x:print(x),top5_industries_data_science))"
      ],
      "execution_count": null,
      "outputs": [
        {
          "output_type": "stream",
          "text": [
            "The top 5 industries in data science jobs are: \n",
            "\n",
            "Biotech & Pharmaceuticals\n",
            "IT Services\n",
            "Enterprise Software & Network Solutions\n",
            "Computer Hardware & Software\n",
            "Internet\n"
          ],
          "name": "stdout"
        },
        {
          "output_type": "execute_result",
          "data": {
            "text/plain": [
              "[None, None, None, None, None]"
            ]
          },
          "metadata": {
            "tags": []
          },
          "execution_count": 50
        }
      ]
    },
    {
      "cell_type": "markdown",
      "metadata": {
        "id": "dnud766jvQaP"
      },
      "source": [
        "#### Q4. What's the average salary estimate in private company?"
      ]
    },
    {
      "cell_type": "code",
      "metadata": {
        "id": "e6ag6a1wvQaQ",
        "outputId": "33820550-2662-4567-eacc-c1984aa035e3"
      },
      "source": [
        "avg_salary_private_company = get_data_copy()['Average Salary Estimate'][get_data_copy()['Type of ownership'] == 'Company - Private'].mean()\n",
        "print('The Average salary estimate in private company is', int(avg_salary_private_company))"
      ],
      "execution_count": null,
      "outputs": [
        {
          "output_type": "stream",
          "text": [
            "The Average salary estimate in private company is 104271\n"
          ],
          "name": "stdout"
        }
      ]
    },
    {
      "cell_type": "markdown",
      "metadata": {
        "id": "5j2aDAzRvQaQ"
      },
      "source": [
        "#### Q5. What's the average salary estimate under 100 employees?"
      ]
    },
    {
      "cell_type": "code",
      "metadata": {
        "id": "nWXf-2rzvQaQ",
        "outputId": "21b80bef-91b2-4e6b-d81a-d0cd53f9b12f"
      },
      "source": [
        "avg_company = get_company_size_data_summary(get_data_copy())\n",
        "avg_company_51_200 = avg_company['Average Salary Estimate'][get_data_copy().Size == '51 to 200 employees'].mean()\n",
        "avg_company_1_50 = avg_company['Average Salary Estimate'][get_data_copy().Size == '1 to 50 employees'].mean()\n",
        "avg_salary = (avg_company_51_200 + avg_company_1_50) / 2\n",
        "print('The Average salary estimate in under 200 employees company is', int((avg_company_51_200 + avg_company_1_50) / 2))"
      ],
      "execution_count": null,
      "outputs": [
        {
          "output_type": "stream",
          "text": [
            "The Average salary estimate in under 200 employees company is 103987\n"
          ],
          "name": "stdout"
        }
      ]
    },
    {
      "cell_type": "markdown",
      "metadata": {
        "id": "KP5Ay8AAvQaR"
      },
      "source": [
        "## Inferences and Conclusion"
      ]
    },
    {
      "cell_type": "markdown",
      "metadata": {
        "id": "xfLELwI4vQaR"
      },
      "source": [
        "1. Company size may not impact size of data science jobs from this dataset.\n",
        "2. Salary for data science jobs may similar in company size. It doesn't look salary increases based on company sizes.\n",
        "3. Private company abviously hires more data science relevant jobs than other company types.\n",
        "4. Mainly data science related jobs are focus on IT, BioTech, Software and hardware, then heathcare. But many in dustries want data science jobs.\n",
        "5. People looks like go big cities according to analysis, such as New York, LA.\n",
        "6. This analysis can be limited as study use as result may not accurate enough which causes misunderstanding."
      ]
    },
    {
      "cell_type": "markdown",
      "metadata": {
        "id": "49p2t8igvQaS"
      },
      "source": [
        "## References"
      ]
    },
    {
      "cell_type": "markdown",
      "metadata": {
        "id": "HrU2708WvQaS"
      },
      "source": [
        "1. Data Analysis with Python:https://jovian.ml/ph17d035/python-pandas-data-analysis\n",
        "2. Pandas: https://pandas.pydata.org/docs/user_guide/index.html\n",
        "3. Numpy: https://numpy.org/devdocs/user/quickstart.html\n",
        "4. Matplotlib: https://matplotlib.org/3.1.1/tutorials/introductory/sample_plots.html\n",
        "5. Seaborn: https://seaborn.pydata.org/examples/index.html"
      ]
    },
    {
      "cell_type": "code",
      "metadata": {
        "id": "n0Edu3p1vQaT"
      },
      "source": [
        ""
      ],
      "execution_count": null,
      "outputs": []
    }
  ]
}